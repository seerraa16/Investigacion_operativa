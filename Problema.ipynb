{
 "cells": [
  {
   "cell_type": "markdown",
   "metadata": {},
   "source": [
    "# Proyecto final de pytohn de la asignatura investigación operativa"
   ]
  },
  {
   "cell_type": "markdown",
   "metadata": {},
   "source": [
    "En una localidad de segovia llamada Coca (Mi pueblo) existe una fábrica de distintos tipos de vehículos. Los vehiculos fabricados son 6 distintos; Triciclos a motor, Bicicletas con motor, Patinetes electricos , quads, motocicletas y bicicletas estándar. Lo máximo que puede producir la fabrica al dia es de 1000 unidades. Al día no se pueden producir mas de 600 unidades entre Bicicletas con motor, tricilos a motor y Bicicletas estándar. Tampoco se pueden producir mas de 350 unidades entre quads y motocicletas. Se deben producir al menos 200 unidades entre patinetes eléctricos y bicicletas estándar. Se deben producir mas de 100 bicicletas a motor y menos de 450 triciclos a motor.\n",
    "Sabiendo que cada producto tiene el siguiente precio de venta: \n",
    "- Triciclos a motor: 2000€\n",
    "- Bicicletas con motor: 1500€\n",
    "- Patinetes eléctricos: 1000€\n",
    "- Quads: 3000€\n",
    "- Motocicletas: 2500€\n",
    "- Bicicletas estándar: 500€\n",
    "\n",
    "El objetivo de este problema es maximizar el beneficio de la fabrica teniendo en cuenta las restricciones que se han mencionado.\n"
   ]
  },
  {
   "cell_type": "markdown",
   "metadata": {},
   "source": [
    "Maximizar:  \n",
    "$$ \n",
    "Z = 2000X_1 + 1500X_2 + 1000X_3 + 3000X_4 + 2500X_5 + 500X_6 \n",
    "$$\n",
    "\n",
    "Sujeto a las siguientes restricciones:  \n",
    "$$\n",
    "\\begin{aligned}\n",
    "    X_1 + X_2 + X_3 + X_4 + X_5 + X_6 &\\leq 1000 \\\\\n",
    "    X_1 + X_2 + X_6 &\\leq 600 \\\\\n",
    "    X_4 + X_5 &\\leq 350 \\\\\n",
    "    X_3 + X_6  &\\geq 200 \\\\\n",
    "    X_1 &\\geq 100 \\\\\n",
    "    X_3 &\\leq 450 \\\\\n",
    "    \n",
    "\\end{aligned}\n",
    "$$\n"
   ]
  },
  {
   "cell_type": "markdown",
   "metadata": {},
   "source": []
  }
 ],
 "metadata": {
  "language_info": {
   "name": "python"
  }
 },
 "nbformat": 4,
 "nbformat_minor": 2
}
