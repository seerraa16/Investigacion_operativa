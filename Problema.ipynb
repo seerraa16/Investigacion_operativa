{
 "cells": [
  {
   "cell_type": "markdown",
   "metadata": {},
   "source": [
    "# Proyecto final de pytohn de la asignatura investigación operativa"
   ]
  },
  {
   "cell_type": "markdown",
   "metadata": {},
   "source": [
    "En una localidad de segovia llamada Coca (Mi pueblo) existe una fábrica de distintos tipos de vehículos. Los vehiculos fabricados son 6 distintos; Triciclos a motor, Bicicletas con motor, Patinetes electricos , quads, motocicletas y bicicletas estándar. Lo máximo que puede producir la fabrica al dia es de 1000 unidades. Al día no se pueden producir mas de 600 unidades entre Bicicletas con motor, tricilos a motor y Bicicletas estándar. Tampoco se pueden producir mas de 350 unidades entre quads y motocicletas. Se deben producir al menos 200 unidades entre patinetes eléctricos y bicicletas estándar. Se deben producir mas de 100 bicicletas a motor y menos de 450 triciclos a motor.\n",
    "Sabiendo que cada producto tiene el siguiente precio de venta: \n",
    "- Triciclos a motor: 2000€\n",
    "- Bicicletas con motor: 1500€\n",
    "- Patinetes eléctricos: 1000€\n",
    "- Quads: 3000€\n",
    "- Motocicletas: 2500€\n",
    "- Bicicletas estándar: 500€\n",
    "\n",
    "El objetivo de este problema es maximizar el beneficio de la fabrica teniendo en cuenta las restricciones que se han mencionado.\n"
   ]
  },
  {
   "cell_type": "markdown",
   "metadata": {},
   "source": [
    "Maximizar:  \n",
    "$$ \n",
    "Z = 2000X_1 + 1500X_2 + 1000X_3 + 3000X_4 + 2500X_5 + 500X_6 \n",
    "$$\n",
    "\n",
    "Sujeto a las siguientes restricciones:  \n",
    "$$\n",
    "\\begin{aligned}\n",
    "    X_1 + X_2 + X_3 + X_4 + X_5 + X_6 &\\leq 1000 \\\\\n",
    "    X_1 + X_2 + X_6 &\\leq 600 \\\\\n",
    "    X_4 + X_5 &\\leq 350 \\\\\n",
    "    X_3 + X_6  &\\geq 200 \\\\\n",
    "    X_1 &\\geq 100 \\\\\n",
    "    X_3 &\\leq 450 \\\\\n",
    "    X_1, X_2, X_3, X_4, X_5, X_6 &\\geq 0\n",
    "\\end{aligned}\n",
    "$$\n"
   ]
  },
  {
   "cell_type": "markdown",
   "metadata": {},
   "source": [
    "## Resolución del problema mediante pyomo"
   ]
  },
  {
   "cell_type": "code",
   "execution_count": 1,
   "metadata": {},
   "outputs": [
    {
     "ename": "ModuleNotFoundError",
     "evalue": "No module named 'pyomo'",
     "output_type": "error",
     "traceback": [
      "\u001b[1;31m---------------------------------------------------------------------------\u001b[0m",
      "\u001b[1;31mModuleNotFoundError\u001b[0m                       Traceback (most recent call last)",
      "Cell \u001b[1;32mIn[1], line 2\u001b[0m\n\u001b[0;32m      1\u001b[0m \u001b[38;5;66;03m# Importar Pyomo\u001b[39;00m\n\u001b[1;32m----> 2\u001b[0m \u001b[38;5;28;01mfrom\u001b[39;00m \u001b[38;5;21;01mpyomo\u001b[39;00m\u001b[38;5;21;01m.\u001b[39;00m\u001b[38;5;21;01menviron\u001b[39;00m \u001b[38;5;28;01mimport\u001b[39;00m \u001b[38;5;241m*\u001b[39m\n\u001b[0;32m      4\u001b[0m \u001b[38;5;66;03m# Crear el modelo\u001b[39;00m\n\u001b[0;32m      5\u001b[0m model \u001b[38;5;241m=\u001b[39m ConcreteModel()\n",
      "\u001b[1;31mModuleNotFoundError\u001b[0m: No module named 'pyomo'"
     ]
    }
   ],
   "source": [
    "\n",
    "# Importar Pyomo\n",
    "from pyomo.environ import *\n",
    "\n",
    "# Crear el modelo\n",
    "model = ConcreteModel()\n",
    "\n",
    "# Definir las variables\n",
    "model.x1 = Var(within=NonNegativeReals)\n",
    "model.x2 = Var(within=NonNegativeReals)\n",
    "model.x3 = Var(within=NonNegativeReals)\n",
    "model.x4 = Var(within=NonNegativeReals)\n",
    "model.x5 = Var(within=NonNegativeReals)\n",
    "model.x6 = Var(within=NonNegativeReals)\n",
    "\n",
    "# Definir la función objetivo\n",
    "model.obj = Objective(expr=2000*model.x1 + 1500*model.x2 + 1000*model.x3 + 3000*model.x4 + 2500*model.x5 + 500*model.x6, sense=maximize)\n",
    "\n",
    "# Definir las restricciones\n",
    "model.constraint1 = Constraint(expr=model.x1 + model.x2 + model.x3 + model.x4 + model.x5 + model.x6 <= 1000)\n",
    "model.constraint2 = Constraint(expr=model.x1 + model.x2 + model.x6 <= 600)\n",
    "model.constraint3 = Constraint(expr=model.x4 + model.x5 <= 350)\n",
    "model.constraint4 = Constraint(expr=model.x3 + model.x6 >= 200)\n",
    "model.constraint5 = Constraint(expr=model.x1 >= 100)\n",
    "model.constraint6 = Constraint(expr=model.x3 <= 450)\n",
    "\n",
    "# Resolver el problema\n",
    "solver = SolverFactory('glpk')\n",
    "solver.solve(model)\n",
    "\n",
    "# Mostrar los resultados\n",
    "model.x1.display()\n",
    "model.x2.display()\n",
    "model.x3.display()\n",
    "model.x4.display()\n",
    "model.x5.display()\n",
    "model.x6.display()\n",
    "model.obj.display()"
   ]
  }
 ],
 "metadata": {
  "kernelspec": {
   "display_name": "base",
   "language": "python",
   "name": "python3"
  },
  "language_info": {
   "codemirror_mode": {
    "name": "ipython",
    "version": 3
   },
   "file_extension": ".py",
   "mimetype": "text/x-python",
   "name": "python",
   "nbconvert_exporter": "python",
   "pygments_lexer": "ipython3",
   "version": "3.12.7"
  }
 },
 "nbformat": 4,
 "nbformat_minor": 2
}
