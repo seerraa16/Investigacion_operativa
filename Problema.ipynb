{
 "cells": [
  {
   "cell_type": "markdown",
   "metadata": {},
   "source": [
    "# Proyecto final de pytohn de la asignatura investigación operativa"
   ]
  },
  {
   "cell_type": "markdown",
   "metadata": {},
   "source": [
    "En una localidad de segovia llamada Coca (Mi pueblo) existe una fábrica de distintos tipos de vehículos. Los vehiculos fabricados son 6 distintos; Triciclos a motor, Bicicletas con motor, Patinetes electricos , quads, motocicletas y bicicletas estándar. Lo máximo que puede producir la fabrica al dia es de 1000 unidades. Al día no se pueden producir mas de 600 unidades entre Bicicletas con motor, tricilos a motor y Bicicletas estándar. Tampoco se pueden producir mas de 350 unidades entre quads y motocicletas. Se deben producir al menos 200 unidades de patinetes eléctricos y bicicletas estándar.\n",
    "Sabiendo que cada producto tiene el siguiente precio de venta: \n",
    "- Triciclos a motor: 2000€\n",
    "- Bicicletas con motor: 1500€\n",
    "- Patinetes eléctricos: 1000€\n",
    "- Quads: 3000€\n",
    "- Motocicletas: 2500€\n",
    "- Bicicletas estándar: 500€\n",
    "\n",
    "El objetivo de este problema es maximizar el beneficio de la fabrica teniendo en cuenta las restricciones que se han mencionado.\n"
   ]
  }
 ],
 "metadata": {
  "language_info": {
   "name": "python"
  }
 },
 "nbformat": 4,
 "nbformat_minor": 2
}
